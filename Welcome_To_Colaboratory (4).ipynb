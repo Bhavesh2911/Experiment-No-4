{
  "cells": [
    {
      "cell_type": "markdown",
      "source": [
        "Write a program to create, concatenate and print and accessing sub-string from given string"
      ],
      "metadata": {
        "id": "mAX1Xq84u14S"
      }
    },
    {
      "cell_type": "code",
      "source": [
        "s1=input(\"Enter first String : \") \n",
        "s2=input(\"Enter second String : \")\n",
        "print(\"First string is : \",s1)\n",
        "print(\"Second string is : \",s2)\n",
        "print(\"concatenations of two strings :\",s1+s2)\n",
        "print(\"Substring of given string :\",s1[1:3])"
      ],
      "metadata": {
        "id": "KzqXow09ute3",
        "outputId": "5ce70dc7-a253-4e70-a840-32e03de44834",
        "colab": {
          "base_uri": "https://localhost:8080/"
        }
      },
      "execution_count": 16,
      "outputs": [
        {
          "output_type": "stream",
          "name": "stdout",
          "text": [
            "Enter first String : 5\n",
            "Enter second String : 8\n",
            "First string is :  5\n",
            "Second string is :  8\n",
            "concatenations of two strings : 58\n",
            "Substring of given string : \n"
          ]
        }
      ]
    }
  ],
  "metadata": {
    "colab": {
      "collapsed_sections": [],
      "name": "Welcome To Colaboratory",
      "toc_visible": true,
      "provenance": []
    },
    "kernelspec": {
      "display_name": "Python 3",
      "name": "python3"
    }
  },
  "nbformat": 4,
  "nbformat_minor": 0
}